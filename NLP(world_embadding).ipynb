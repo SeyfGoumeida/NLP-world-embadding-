{
  "nbformat": 4,
  "nbformat_minor": 0,
  "metadata": {
    "colab": {
      "name": "NLP(world embadding).ipynb",
      "provenance": [],
      "collapsed_sections": [],
      "authorship_tag": "ABX9TyPUMMffMcXQsd/wCzY5xMZ+",
      "include_colab_link": true
    },
    "kernelspec": {
      "name": "python3",
      "display_name": "Python 3"
    },
    "language_info": {
      "name": "python"
    },
    "accelerator": "GPU"
  },
  "cells": [
    {
      "cell_type": "markdown",
      "metadata": {
        "id": "view-in-github",
        "colab_type": "text"
      },
      "source": [
        "<a href=\"https://colab.research.google.com/github/SeyfGoumeida/NLP-world-embadding-/blob/main/NLP(world_embadding).ipynb\" target=\"_parent\"><img src=\"https://colab.research.google.com/assets/colab-badge.svg\" alt=\"Open In Colab\"/></a>"
      ]
    },
    {
      "cell_type": "code",
      "metadata": {
        "colab": {
          "base_uri": "https://localhost:8080/"
        },
        "id": "q_8KfgTd9bzN",
        "outputId": "82a7330b-d2c8-4f46-f04f-6fba2dc1c366"
      },
      "source": [
        "!pip install transformers\n"
      ],
      "execution_count": 36,
      "outputs": [
        {
          "output_type": "stream",
          "name": "stdout",
          "text": [
            "Requirement already satisfied: transformers in /usr/local/lib/python3.7/dist-packages (4.11.3)\n",
            "Requirement already satisfied: importlib-metadata in /usr/local/lib/python3.7/dist-packages (from transformers) (4.8.1)\n",
            "Requirement already satisfied: numpy>=1.17 in /usr/local/lib/python3.7/dist-packages (from transformers) (1.19.5)\n",
            "Requirement already satisfied: pyyaml>=5.1 in /usr/local/lib/python3.7/dist-packages (from transformers) (6.0)\n",
            "Requirement already satisfied: huggingface-hub>=0.0.17 in /usr/local/lib/python3.7/dist-packages (from transformers) (0.0.19)\n",
            "Requirement already satisfied: requests in /usr/local/lib/python3.7/dist-packages (from transformers) (2.23.0)\n",
            "Requirement already satisfied: sacremoses in /usr/local/lib/python3.7/dist-packages (from transformers) (0.0.46)\n",
            "Requirement already satisfied: filelock in /usr/local/lib/python3.7/dist-packages (from transformers) (3.3.0)\n",
            "Requirement already satisfied: regex!=2019.12.17 in /usr/local/lib/python3.7/dist-packages (from transformers) (2019.12.20)\n",
            "Requirement already satisfied: packaging>=20.0 in /usr/local/lib/python3.7/dist-packages (from transformers) (21.0)\n",
            "Requirement already satisfied: tqdm>=4.27 in /usr/local/lib/python3.7/dist-packages (from transformers) (4.62.3)\n",
            "Requirement already satisfied: tokenizers<0.11,>=0.10.1 in /usr/local/lib/python3.7/dist-packages (from transformers) (0.10.3)\n",
            "Requirement already satisfied: typing-extensions in /usr/local/lib/python3.7/dist-packages (from huggingface-hub>=0.0.17->transformers) (3.7.4.3)\n",
            "Requirement already satisfied: pyparsing>=2.0.2 in /usr/local/lib/python3.7/dist-packages (from packaging>=20.0->transformers) (2.4.7)\n",
            "Requirement already satisfied: zipp>=0.5 in /usr/local/lib/python3.7/dist-packages (from importlib-metadata->transformers) (3.6.0)\n",
            "Requirement already satisfied: urllib3!=1.25.0,!=1.25.1,<1.26,>=1.21.1 in /usr/local/lib/python3.7/dist-packages (from requests->transformers) (1.24.3)\n",
            "Requirement already satisfied: chardet<4,>=3.0.2 in /usr/local/lib/python3.7/dist-packages (from requests->transformers) (3.0.4)\n",
            "Requirement already satisfied: idna<3,>=2.5 in /usr/local/lib/python3.7/dist-packages (from requests->transformers) (2.10)\n",
            "Requirement already satisfied: certifi>=2017.4.17 in /usr/local/lib/python3.7/dist-packages (from requests->transformers) (2021.5.30)\n",
            "Requirement already satisfied: joblib in /usr/local/lib/python3.7/dist-packages (from sacremoses->transformers) (1.0.1)\n",
            "Requirement already satisfied: six in /usr/local/lib/python3.7/dist-packages (from sacremoses->transformers) (1.15.0)\n",
            "Requirement already satisfied: click in /usr/local/lib/python3.7/dist-packages (from sacremoses->transformers) (7.1.2)\n"
          ]
        }
      ]
    },
    {
      "cell_type": "code",
      "metadata": {
        "id": "5PX7CUsb-tmB"
      },
      "source": [
        "from time import time \n",
        "import pandas as pd\n",
        "import numpy as np\n",
        "from transformers import BertModel,BertTokenizer\n",
        "import torch"
      ],
      "execution_count": 37,
      "outputs": []
    },
    {
      "cell_type": "code",
      "metadata": {
        "id": "bXoOgutt--nc"
      },
      "source": [
        "model_name = \"bert-base-cased\"\n"
      ],
      "execution_count": 38,
      "outputs": []
    },
    {
      "cell_type": "code",
      "metadata": {
        "id": "zWvRsEd2_E-o"
      },
      "source": [
        "if torch.cuda.is_available():\n",
        "  device ='cuda'\n",
        "else:\n",
        "  device = 'cpu'"
      ],
      "execution_count": 39,
      "outputs": []
    },
    {
      "cell_type": "code",
      "metadata": {
        "colab": {
          "base_uri": "https://localhost:8080/"
        },
        "id": "qN89yj_1_mrZ",
        "outputId": "3b5f75d7-fdf3-4bf8-9196-591a3c155561"
      },
      "source": [
        "model = BertModel.from_pretrained(model_name,output_hidden_states=True)\n",
        "tokenizer = BertTokenizer.from_pretrained(model_name)\n"
      ],
      "execution_count": 40,
      "outputs": [
        {
          "output_type": "stream",
          "name": "stderr",
          "text": [
            "Some weights of the model checkpoint at bert-base-cased were not used when initializing BertModel: ['cls.predictions.transform.LayerNorm.bias', 'cls.predictions.transform.dense.bias', 'cls.seq_relationship.bias', 'cls.predictions.transform.LayerNorm.weight', 'cls.predictions.decoder.weight', 'cls.predictions.bias', 'cls.seq_relationship.weight', 'cls.predictions.transform.dense.weight']\n",
            "- This IS expected if you are initializing BertModel from the checkpoint of a model trained on another task or with another architecture (e.g. initializing a BertForSequenceClassification model from a BertForPreTraining model).\n",
            "- This IS NOT expected if you are initializing BertModel from the checkpoint of a model that you expect to be exactly identical (initializing a BertForSequenceClassification model from a BertForSequenceClassification model).\n"
          ]
        }
      ]
    },
    {
      "cell_type": "code",
      "metadata": {
        "id": "Vgbmgo4PAZvh"
      },
      "source": [
        "if device =='cuda':\n",
        "  model.cuda()"
      ],
      "execution_count": 41,
      "outputs": []
    },
    {
      "cell_type": "code",
      "metadata": {
        "id": "uTjQ5FJtElpg"
      },
      "source": [
        ""
      ],
      "execution_count": 41,
      "outputs": []
    },
    {
      "cell_type": "code",
      "metadata": {
        "colab": {
          "base_uri": "https://localhost:8080/"
        },
        "id": "58UF1YPcB02y",
        "outputId": "fc175def-3234-4cb8-8025-f9fc42c6a9ee"
      },
      "source": [
        "sample =\"let's encode a sentence\"\n",
        "print('raw : ',sample)\n",
        "tokenized = tokenizer.tokenize(sample)[:512]#taille max des senteces en bert\n",
        "print('Tokenized :',tokenized)\n",
        "input_inds = tokenizer.convert_tokens_to_ids(tokenized)\n",
        "print('encoded :',input_inds)"
      ],
      "execution_count": 42,
      "outputs": [
        {
          "output_type": "stream",
          "name": "stdout",
          "text": [
            "raw :  let's encode a sentence\n",
            "Tokenized : ['let', \"'\", 's', 'en', '##code', 'a', 'sentence']\n",
            "encoded : [1519, 112, 188, 4035, 13775, 170, 5650]\n"
          ]
        }
      ]
    },
    {
      "cell_type": "code",
      "metadata": {
        "colab": {
          "base_uri": "https://localhost:8080/"
        },
        "id": "ZCWVQ86BCh-V",
        "outputId": "a0e8b2a5-9e0d-4bff-9017-49105a539177"
      },
      "source": [
        "tensor_sentence = torch.tensor([input_inds])\n",
        "tensor_sentence = tensor_sentence.to(device)\n",
        "tensor_sentence"
      ],
      "execution_count": 43,
      "outputs": [
        {
          "output_type": "execute_result",
          "data": {
            "text/plain": [
              "tensor([[ 1519,   112,   188,  4035, 13775,   170,  5650]], device='cuda:0')"
            ]
          },
          "metadata": {},
          "execution_count": 43
        }
      ]
    },
    {
      "cell_type": "code",
      "metadata": {
        "colab": {
          "base_uri": "https://localhost:8080/"
        },
        "id": "MTTGcLlgIKQG",
        "outputId": "ba780ee4-51ac-4f92-cb6c-592e6ef54310"
      },
      "source": [
        "output= model(tensor_sentence)\n",
        "hidden_states = output.hidden_states\n",
        "len(hidden_states)"
      ],
      "execution_count": 44,
      "outputs": [
        {
          "output_type": "execute_result",
          "data": {
            "text/plain": [
              "13"
            ]
          },
          "metadata": {},
          "execution_count": 44
        }
      ]
    },
    {
      "cell_type": "code",
      "metadata": {
        "colab": {
          "base_uri": "https://localhost:8080/"
        },
        "id": "ge1sN-0AIKTs",
        "outputId": "939745e2-5820-4d8f-a2ce-bedf6dcebe10"
      },
      "source": [
        "hidden_states = hidden_states[1:]\n",
        "len(hidden_states)"
      ],
      "execution_count": 45,
      "outputs": [
        {
          "output_type": "execute_result",
          "data": {
            "text/plain": [
              "12"
            ]
          },
          "metadata": {},
          "execution_count": 45
        }
      ]
    },
    {
      "cell_type": "code",
      "metadata": {
        "colab": {
          "base_uri": "https://localhost:8080/"
        },
        "id": "kvfE2cYBHLhp",
        "outputId": "f2a7e498-7871-4119-8bd3-9fd1b5f963d1"
      },
      "source": [
        "hidden_states[0][0].shape"
      ],
      "execution_count": 46,
      "outputs": [
        {
          "output_type": "execute_result",
          "data": {
            "text/plain": [
              "torch.Size([7, 768])"
            ]
          },
          "metadata": {},
          "execution_count": 46
        }
      ]
    },
    {
      "cell_type": "code",
      "metadata": {
        "id": "3TWqcwGlHYDx"
      },
      "source": [
        "word_embadding = [layer_embadding[0].detach().cpu().numpy() for layer_embadding in hidden_states]"
      ],
      "execution_count": 47,
      "outputs": []
    },
    {
      "cell_type": "code",
      "metadata": {
        "id": "lvAJVhC_Hn42"
      },
      "source": [
        "document_embadding = [layer_word_embedding.mean(axis=0) for layer_word_embedding in word_embadding]"
      ],
      "execution_count": 48,
      "outputs": []
    },
    {
      "cell_type": "code",
      "metadata": {
        "colab": {
          "base_uri": "https://localhost:8080/"
        },
        "id": "RdUYDt6WIATC",
        "outputId": "76b8c1d5-98b8-4536-aa6a-8af20d17839b"
      },
      "source": [
        "len(document_embadding)"
      ],
      "execution_count": 49,
      "outputs": [
        {
          "output_type": "execute_result",
          "data": {
            "text/plain": [
              "12"
            ]
          },
          "metadata": {},
          "execution_count": 49
        }
      ]
    },
    {
      "cell_type": "code",
      "metadata": {
        "colab": {
          "base_uri": "https://localhost:8080/"
        },
        "id": "otQ9TLK_ICDc",
        "outputId": "7d98c9ac-13c5-4220-8081-5f677f4870d7"
      },
      "source": [
        "document_embadding[0].shape"
      ],
      "execution_count": 50,
      "outputs": [
        {
          "output_type": "execute_result",
          "data": {
            "text/plain": [
              "(768,)"
            ]
          },
          "metadata": {},
          "execution_count": 50
        }
      ]
    },
    {
      "cell_type": "code",
      "metadata": {
        "id": "KJ1GQDdZQnBd"
      },
      "source": [
        "def encode_sentence(sentence,model, tokenizer):  \n",
        "  tokenized = tokenizer.tokenize(sentence)[:512]\n",
        "  input_inds = tokenizer.convert_tokens_to_ids(tokenized)\n",
        "  \n",
        "  tensor_sentence = torch.tensor([input_inds])\n",
        "  tensor_sentence = tensor_sentence.to(device)\n",
        "  \n",
        "  output = model(tensor_sentence)\n",
        "  hidden_states = output.hidden_states\n",
        "  \n",
        "  hidden_states = hidden_states[1:]\n",
        "  \n",
        "  document_embeddings = [layer_embeddings[0].mean(axis=0).detach().cpu().numpy() for layer_embeddings in hidden_states]\n",
        "  \n",
        "  return document_embeddings"
      ],
      "execution_count": 53,
      "outputs": []
    },
    {
      "cell_type": "code",
      "metadata": {
        "id": "dp1DMrlnSMbq"
      },
      "source": [
        "document_embaddings = encode_sentence(sample,model,tokenizer)"
      ],
      "execution_count": 54,
      "outputs": []
    },
    {
      "cell_type": "code",
      "metadata": {
        "colab": {
          "base_uri": "https://localhost:8080/"
        },
        "id": "wll8EYk7Sf5h",
        "outputId": "569b9043-6598-4687-c662-fba3b995c3a5"
      },
      "source": [
        "len(document_embaddings)\n"
      ],
      "execution_count": 55,
      "outputs": [
        {
          "output_type": "execute_result",
          "data": {
            "text/plain": [
              "12"
            ]
          },
          "metadata": {},
          "execution_count": 55
        }
      ]
    },
    {
      "cell_type": "code",
      "metadata": {
        "id": "LyJ6Am6oTY6R"
      },
      "source": [
        "sentences =[\"let's encode sentences\",\"me first\",\"each in turn\"]"
      ],
      "execution_count": 56,
      "outputs": []
    },
    {
      "cell_type": "code",
      "metadata": {
        "id": "7nLC3VxPSu7X"
      },
      "source": [
        "encoded_sentences = []\n",
        "for sentence in sentences :\n",
        "  document_embeddings = encode_sentence(sentence,model,tokenizer)\n",
        "  document_embeddings = np.vstack(document_embeddings)\n",
        "  encoded_sentences.append(document_embeddings)"
      ],
      "execution_count": 57,
      "outputs": []
    },
    {
      "cell_type": "code",
      "metadata": {
        "colab": {
          "base_uri": "https://localhost:8080/"
        },
        "id": "Kc1yjwsHVols",
        "outputId": "da2abe1f-93b5-4d66-9fcb-8f95fb13a4f1"
      },
      "source": [
        "len(encoded_sentences)"
      ],
      "execution_count": 58,
      "outputs": [
        {
          "output_type": "execute_result",
          "data": {
            "text/plain": [
              "3"
            ]
          },
          "metadata": {},
          "execution_count": 58
        }
      ]
    },
    {
      "cell_type": "code",
      "metadata": {
        "colab": {
          "base_uri": "https://localhost:8080/"
        },
        "id": "dpFfxoyiThSZ",
        "outputId": "7b1af860-f114-4009-86b7-5fec7fb0e795"
      },
      "source": [
        "concat_embeddings = np.array(encoded_sentences)\n",
        "concat_embeddings.shape"
      ],
      "execution_count": 59,
      "outputs": [
        {
          "output_type": "execute_result",
          "data": {
            "text/plain": [
              "(3, 12, 768)"
            ]
          },
          "metadata": {},
          "execution_count": 59
        }
      ]
    },
    {
      "cell_type": "code",
      "metadata": {
        "colab": {
          "base_uri": "https://localhost:8080/"
        },
        "id": "pQXfAlC-VNyH",
        "outputId": "c02fd9b8-cbca-49ab-ba30-2b2497badb03"
      },
      "source": [
        "final_embeddings = np.swapaxes(concat_embeddings,0,1)\n",
        "final_embeddings.shape"
      ],
      "execution_count": 60,
      "outputs": [
        {
          "output_type": "execute_result",
          "data": {
            "text/plain": [
              "(12, 3, 768)"
            ]
          },
          "metadata": {},
          "execution_count": 60
        }
      ]
    },
    {
      "cell_type": "code",
      "metadata": {
        "colab": {
          "base_uri": "https://localhost:8080/"
        },
        "id": "pEfSe-xUXt7_",
        "outputId": "3f2cb600-46cc-49a4-faf4-8c0c90eadcf8"
      },
      "source": [
        "martices = list(final_embeddings)\n",
        "len(martices)\n"
      ],
      "execution_count": 62,
      "outputs": [
        {
          "output_type": "execute_result",
          "data": {
            "text/plain": [
              "12"
            ]
          },
          "metadata": {},
          "execution_count": 62
        }
      ]
    },
    {
      "cell_type": "code",
      "metadata": {
        "colab": {
          "base_uri": "https://localhost:8080/"
        },
        "id": "b4X0n5y3X5jG",
        "outputId": "1458aa9a-2d7d-439e-f906-6c773464eb17"
      },
      "source": [
        "martices[0].shape"
      ],
      "execution_count": 63,
      "outputs": [
        {
          "output_type": "execute_result",
          "data": {
            "text/plain": [
              "(3, 768)"
            ]
          },
          "metadata": {},
          "execution_count": 63
        }
      ]
    },
    {
      "cell_type": "markdown",
      "metadata": {
        "id": "DtG0wzxzY0Jv"
      },
      "source": [
        "# Import Data\n"
      ]
    },
    {
      "cell_type": "code",
      "metadata": {
        "id": "9N4e_kL-YCga"
      },
      "source": [
        "url =\"https://drive.google.com/uc?id=1SpcExC4Fs2H-_9hdem4uz_6bd8L12RgF\"\n",
        "df = pd.read_csv(url,index_col = 0)"
      ],
      "execution_count": 67,
      "outputs": []
    },
    {
      "cell_type": "code",
      "metadata": {
        "colab": {
          "base_uri": "https://localhost:8080/",
          "height": 419
        },
        "id": "txHbv179YH2Q",
        "outputId": "f9ced39d-ff9b-4cd9-b261-f8f3a8162817"
      },
      "source": [
        "df"
      ],
      "execution_count": 68,
      "outputs": [
        {
          "output_type": "execute_result",
          "data": {
            "text/html": [
              "<div>\n",
              "<style scoped>\n",
              "    .dataframe tbody tr th:only-of-type {\n",
              "        vertical-align: middle;\n",
              "    }\n",
              "\n",
              "    .dataframe tbody tr th {\n",
              "        vertical-align: top;\n",
              "    }\n",
              "\n",
              "    .dataframe thead th {\n",
              "        text-align: right;\n",
              "    }\n",
              "</style>\n",
              "<table border=\"1\" class=\"dataframe\">\n",
              "  <thead>\n",
              "    <tr style=\"text-align: right;\">\n",
              "      <th></th>\n",
              "      <th>text</th>\n",
              "      <th>label</th>\n",
              "    </tr>\n",
              "  </thead>\n",
              "  <tbody>\n",
              "    <tr>\n",
              "      <th>0</th>\n",
              "      <td>Milestones in Cataloging In the case of the pr...</td>\n",
              "      <td>cisi</td>\n",
              "    </tr>\n",
              "    <tr>\n",
              "      <th>1</th>\n",
              "      <td>childhood psychosis. a description is given of...</td>\n",
              "      <td>med</td>\n",
              "    </tr>\n",
              "    <tr>\n",
              "      <th>2</th>\n",
              "      <td>neonatal hepatitis or familial neonatal obstru...</td>\n",
              "      <td>med</td>\n",
              "    </tr>\n",
              "    <tr>\n",
              "      <th>3</th>\n",
              "      <td>Handbook of Comparative Librarianship The firs...</td>\n",
              "      <td>cisi</td>\n",
              "    </tr>\n",
              "    <tr>\n",
              "      <th>4</th>\n",
              "      <td>Design and Evaluation of Information Systems T...</td>\n",
              "      <td>cisi</td>\n",
              "    </tr>\n",
              "    <tr>\n",
              "      <th>...</th>\n",
              "      <td>...</td>\n",
              "      <td>...</td>\n",
              "    </tr>\n",
              "    <tr>\n",
              "      <th>3886</th>\n",
              "      <td>modification of autistic behavior with lsd-25....</td>\n",
              "      <td>med</td>\n",
              "    </tr>\n",
              "    <tr>\n",
              "      <th>3887</th>\n",
              "      <td>Patterns of Evaluation in Science: Institution...</td>\n",
              "      <td>cisi</td>\n",
              "    </tr>\n",
              "    <tr>\n",
              "      <th>3888</th>\n",
              "      <td>The government of the American Public Library ...</td>\n",
              "      <td>cisi</td>\n",
              "    </tr>\n",
              "    <tr>\n",
              "      <th>3889</th>\n",
              "      <td>base pressure at subsonic speeds in the presen...</td>\n",
              "      <td>cran</td>\n",
              "    </tr>\n",
              "    <tr>\n",
              "      <th>3890</th>\n",
              "      <td>throat and nose surgery in patients with const...</td>\n",
              "      <td>med</td>\n",
              "    </tr>\n",
              "  </tbody>\n",
              "</table>\n",
              "<p>3891 rows × 2 columns</p>\n",
              "</div>"
            ],
            "text/plain": [
              "                                                   text label\n",
              "0     Milestones in Cataloging In the case of the pr...  cisi\n",
              "1     childhood psychosis. a description is given of...   med\n",
              "2     neonatal hepatitis or familial neonatal obstru...   med\n",
              "3     Handbook of Comparative Librarianship The firs...  cisi\n",
              "4     Design and Evaluation of Information Systems T...  cisi\n",
              "...                                                 ...   ...\n",
              "3886  modification of autistic behavior with lsd-25....   med\n",
              "3887  Patterns of Evaluation in Science: Institution...  cisi\n",
              "3888  The government of the American Public Library ...  cisi\n",
              "3889  base pressure at subsonic speeds in the presen...  cran\n",
              "3890  throat and nose surgery in patients with const...   med\n",
              "\n",
              "[3891 rows x 2 columns]"
            ]
          },
          "metadata": {},
          "execution_count": 68
        }
      ]
    },
    {
      "cell_type": "code",
      "metadata": {
        "id": "EcJT3Z-FYhmL"
      },
      "source": [
        "model_name = 'bert-base-cased'\n",
        "texts = df['text'].values\n",
        "labels = df['label'].values"
      ],
      "execution_count": 71,
      "outputs": []
    },
    {
      "cell_type": "code",
      "metadata": {
        "id": "T7iwhzp5Ynju"
      },
      "source": [
        "def encode_sentences(model,tokenizer,sentences):\n",
        "  encoded_sentences = []\n",
        "  for sentence in sentences:\n",
        "    document_embeddings = encode_sentence(sentence,model,tokenizer)\n",
        "    document_embeddings = np.vstack(document_embeddings)\n",
        "    encoded_sentences.append(document_embeddings)\n",
        "  concat_embeddings = np.array(encoded_sentences)\n",
        "  final_embeddings = np.swapaxes(concat_embeddings, 0, 1)\n",
        "  matrices = list(final_embeddings)\n",
        "  return matrices"
      ],
      "execution_count": 78,
      "outputs": []
    },
    {
      "cell_type": "code",
      "metadata": {
        "colab": {
          "base_uri": "https://localhost:8080/"
        },
        "id": "yFBf1gYiY7wn",
        "outputId": "73356023-8747-40c8-efa8-c6b2a565f557"
      },
      "source": [
        "s =time()\n",
        "print(device)\n",
        "matrices = encode_sentences(model,tokenizer,texts)\n",
        "print(time() - s)"
      ],
      "execution_count": 79,
      "outputs": [
        {
          "output_type": "stream",
          "name": "stdout",
          "text": [
            "cuda\n",
            "165.54844069480896\n"
          ]
        }
      ]
    },
    {
      "cell_type": "code",
      "metadata": {
        "id": "uoMu2UL5Y71Z"
      },
      "source": [
        ""
      ],
      "execution_count": null,
      "outputs": []
    }
  ]
}